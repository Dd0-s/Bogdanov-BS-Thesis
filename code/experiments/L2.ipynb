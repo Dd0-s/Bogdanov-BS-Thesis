{
 "cells": [
  {
   "cell_type": "code",
   "execution_count": 78,
   "id": "60172d52",
   "metadata": {
    "ExecuteTime": {
     "end_time": "2023-12-16T09:59:25.518929Z",
     "start_time": "2023-12-16T09:59:25.393303Z"
    }
   },
   "outputs": [
    {
     "name": "stdout",
     "output_type": "stream",
     "text": [
      "The autoreload extension is already loaded. To reload it, use:\n",
      "  %reload_ext autoreload\n"
     ]
    }
   ],
   "source": [
    "import numpy as np\n",
    "import pandas as pd\n",
    "from matplotlib import pylab as plt\n",
    "from tueplots import bundles\n",
    "plt.rcParams.update(bundles.icml2024())\n",
    "from importlib import reload\n",
    "import os \n",
    "#os.environ[\"PATH\"] += os.pathsep + '/Library/TeX/texbin' #For MacOS\n",
    "\n",
    "from gradient_approximation import *\n",
    "from optimizers import *\n",
    "from sets import *\n",
    "from utils import *\n",
    "from run_experiments import *\n",
    "\n",
    "%load_ext autoreload\n",
    "%autoreload 2"
   ]
  },
  {
   "cell_type": "markdown",
   "id": "aaf5f97a",
   "metadata": {},
   "source": [
    "## None-stochastic FW LogReg on L2-ball"
   ]
  },
  {
   "cell_type": "code",
   "execution_count": 33,
   "id": "0ecd3687",
   "metadata": {
    "ExecuteTime": {
     "end_time": "2023-12-16T09:59:28.083805Z",
     "start_time": "2023-12-16T09:59:27.960469Z"
    }
   },
   "outputs": [],
   "source": [
    "func_name = \"mushrooms\"\n",
    "d = 112\n",
    "seed = 42\n",
    "sigma = 0\n",
    "sett = L2Ball(radius=0.5)\n",
    "L = 5.25\n",
    "\n",
    "args = init_experiment(func_name, d)\n",
    "\n",
    "x_0 = np.random.random(size=d)\n",
    "x_0 = x_0 / np.linalg.norm(x_0) * 0.5"
   ]
  },
  {
   "cell_type": "code",
   "execution_count": 65,
   "id": "c137616b",
   "metadata": {
    "ExecuteTime": {
     "end_time": "2023-12-16T09:59:28.566755Z",
     "start_time": "2023-12-16T09:59:28.519816Z"
    }
   },
   "outputs": [],
   "source": [
    "def learning_rate(k):\n",
    "    return 1 / L"
   ]
  },
  {
   "cell_type": "code",
   "execution_count": 66,
   "id": "591d711f",
   "metadata": {
    "ExecuteTime": {
     "end_time": "2023-12-16T10:00:21.755856Z",
     "start_time": "2023-12-16T09:59:29.094273Z"
    },
    "scrolled": true
   },
   "outputs": [
    {
     "name": "stderr",
     "output_type": "stream",
     "text": [
      "100%|██████████████████████████████████████| 1000/1000 [00:02<00:00, 369.40it/s]\n"
     ]
    }
   ],
   "source": [
    "TrueGradient = TrueGradientApproximator(func_name, args=args) \n",
    "GD = GDOptimizer(TrueGradient, learning_rate, x_0, sett, max_oracle_calls=10**3)\n",
    "GD.optimize()"
   ]
  },
  {
   "cell_type": "code",
   "execution_count": 77,
   "id": "1bf74da7",
   "metadata": {
    "ExecuteTime": {
     "end_time": "2023-12-16T10:00:25.153982Z",
     "start_time": "2023-12-16T10:00:24.686014Z"
    },
    "scrolled": false
   },
   "outputs": [
    {
     "data": {
      "image/png": "[encoded data removed]",
      "text/plain": [
       "<Figure size 325x200.861 with 1 Axes>"
      ]
     },
     "metadata": {},
     "output_type": "display_data"
    },
    {
     "name": "stdout",
     "output_type": "stream",
     "text": [
      "0.4999999999999999\n"
     ]
    }
   ],
   "source": [
    "make_err_plot([GD], title=\"GD\", labels=[\"GD\"])\n",
    "x_sol = GD.x_curr\n",
    "print(np.linalg.norm(x_sol))"
   ]
  },
  {
   "cell_type": "code",
   "execution_count": 125,
   "id": "cd3cbc80",
   "metadata": {
    "ExecuteTime": {
     "end_time": "2023-12-16T10:00:34.077270Z",
     "start_time": "2023-12-16T10:00:34.048510Z"
    }
   },
   "outputs": [],
   "source": [
    "def learning_rate_jaguar(k):\n",
    "    return (np.sqrt(k) + 1) / (k + L)\n",
    "\n",
    "def learning_rate_lame(k):\n",
    "    return (2 * np.sqrt(k) + 1) / (k + L)\n",
    "\n",
    "def learning_rate_turtle(k):\n",
    "    return 1 / (k + L)"
   ]
  },
  {
   "cell_type": "code",
   "execution_count": 126,
   "id": "3aac092d",
   "metadata": {},
   "outputs": [],
   "source": [
    "oracle = ZO_oracle(func_name, sigma, oracle_mode=\"tpf\", args=args)"
   ]
  },
  {
   "cell_type": "code",
   "execution_count": 129,
   "id": "7b9f7c77",
   "metadata": {
    "ExecuteTime": {
     "end_time": "2023-12-16T10:14:01.956344Z",
     "start_time": "2023-12-16T10:01:00.101489Z"
    }
   },
   "outputs": [
    {
     "name": "stderr",
     "output_type": "stream",
     "text": [
      " 54%|█████████████████████                  | 2675/4945 [01:16<01:04, 35.13it/s]\n"
     ]
    },
    {
     "name": "stdout",
     "output_type": "stream",
     "text": [
      "Precision 1e-06 achieved at step 2675!\n"
     ]
    },
    {
     "name": "stderr",
     "output_type": "stream",
     "text": [
      "100%|███████████████████████████████████████| 5000/5000 [02:14<00:00, 37.26it/s]\n",
      "100%|███████████████████████████████████████████| 89/89 [03:58<00:00,  2.68s/it]\n"
     ]
    }
   ],
   "source": [
    "Jaguar = JaguarApproximator(oracle, gamma=1e-5)\n",
    "Lame = LameApproximator(oracle, gamma=1e-5)\n",
    "Turtle = TurtleApproximator(oracle, gamma=1e-5)\n",
    "\n",
    "approx_list = [Jaguar, Lame, Turtle]\n",
    "lr_list = [learning_rate_jaguar, learning_rate_lame, learning_rate_turtle]\n",
    "\n",
    "optimizers_list = []\n",
    "for approximator, lr in zip(approx_list, lr_list):\n",
    "    opt = FWOptimizer(approximator, lr, x_0, sett, x_sol=x_sol, max_oracle_calls=10**4)\n",
    "    opt.optimize()\n",
    "    optimizers_list.append(opt)"
   ]
  },
  {
   "cell_type": "code",
   "execution_count": 131,
   "id": "82516b01",
   "metadata": {
    "ExecuteTime": {
     "end_time": "2023-12-16T10:16:34.166266Z",
     "start_time": "2023-12-16T10:16:32.867664Z"
    }
   },
   "outputs": [
    {
     "data": {
      "image/png": "[encoded data removed]",
      "text/plain": [
       "<Figure size 325x200.861 with 1 Axes>"
      ]
     },
     "metadata": {},
     "output_type": "display_data"
    }
   ],
   "source": [
    "make_err_plot(optimizers_list, save_name=\"Non_stochastics_FW_LogReg_L2\")"
   ]
  },
  {
   "cell_type": "markdown",
   "id": "5b80e6be",
   "metadata": {},
   "source": [
    "## None-stochastic FW Reg on L2-ball"
   ]
  },
  {
   "cell_type": "code",
   "execution_count": 152,
   "id": "a7c52433",
   "metadata": {
    "ExecuteTime": {
     "end_time": "2023-12-16T10:20:47.709019Z",
     "start_time": "2023-12-16T10:20:47.518687Z"
    }
   },
   "outputs": [],
   "source": [
    "func_name = \"quadratic\"\n",
    "d = 112\n",
    "seed = 42\n",
    "sigma = 0\n",
    "sett = L2Ball(radius=0.5)\n",
    "L = 1000\n",
    "mu = 1\n",
    "\n",
    "args = init_experiment(func_name, d, L=L, mu=mu)\n",
    "\n",
    "x_0 = np.random.random(size=d)\n",
    "x_0 = x_0 / np.linalg.norm(x_0) * 0.5"
   ]
  },
  {
   "cell_type": "code",
   "execution_count": 156,
   "id": "82242328",
   "metadata": {
    "ExecuteTime": {
     "end_time": "2023-12-16T10:20:48.232343Z",
     "start_time": "2023-12-16T10:20:48.201041Z"
    }
   },
   "outputs": [],
   "source": [
    "def learning_rate(k):\n",
    "    return 1 / L"
   ]
  },
  {
   "cell_type": "code",
   "execution_count": 157,
   "id": "2780d621",
   "metadata": {
    "ExecuteTime": {
     "end_time": "2023-12-16T10:21:41.127896Z",
     "start_time": "2023-12-16T10:20:48.956762Z"
    }
   },
   "outputs": [
    {
     "name": "stderr",
     "output_type": "stream",
     "text": [
      "100%|████████████████████████████████| 100000/100000 [00:03<00:00, 32921.19it/s]\n"
     ]
    }
   ],
   "source": [
    "TrueGradient = TrueGradientApproximator(func_name, args=args) \n",
    "GD = GDOptimizer(TrueGradient, learning_rate, x_0, sett, max_oracle_calls=10**5)\n",
    "GD.optimize()"
   ]
  },
  {
   "cell_type": "code",
   "execution_count": 158,
   "id": "0bb70a9f",
   "metadata": {
    "ExecuteTime": {
     "end_time": "2023-12-16T10:21:45.958678Z",
     "start_time": "2023-12-16T10:21:45.473400Z"
    }
   },
   "outputs": [
    {
     "data": {
      "image/png": "[encoded data removed]",
      "text/plain": [
       "<Figure size 325x200.861 with 1 Axes>"
      ]
     },
     "metadata": {},
     "output_type": "display_data"
    },
    {
     "name": "stdout",
     "output_type": "stream",
     "text": [
      "0.49999999999999994\n"
     ]
    }
   ],
   "source": [
    "make_err_plot([GD], title=\"GD\", labels=[\"GD\"])\n",
    "x_sol = GD.x_curr\n",
    "print(np.linalg.norm(x_sol))"
   ]
  },
  {
   "cell_type": "code",
   "execution_count": 214,
   "id": "dc899392",
   "metadata": {
    "ExecuteTime": {
     "end_time": "2023-12-16T10:22:02.984725Z",
     "start_time": "2023-12-16T10:22:02.908301Z"
    }
   },
   "outputs": [],
   "source": [
    "def learning_rate_jaguar(k):\n",
    "    return 1 / (k + 1)\n",
    "\n",
    "def learning_rate_lame(k):\n",
    "    return 10 / (k + L)\n",
    "\n",
    "def learning_rate_turtle(k):\n",
    "    return (2 * np.sqrt(k) + 1) / (k + L)"
   ]
  },
  {
   "cell_type": "code",
   "execution_count": 215,
   "id": "d41b2ce1",
   "metadata": {
    "ExecuteTime": {
     "end_time": "2023-12-16T10:22:04.280165Z",
     "start_time": "2023-12-16T10:22:04.250537Z"
    }
   },
   "outputs": [],
   "source": [
    "oracle = ZO_oracle(func_name, sigma, oracle_mode=\"tpf\", args=args)"
   ]
  },
  {
   "cell_type": "code",
   "execution_count": 219,
   "id": "9695637d",
   "metadata": {
    "ExecuteTime": {
     "end_time": "2023-12-16T10:23:19.055272Z",
     "start_time": "2023-12-16T10:22:07.802706Z"
    }
   },
   "outputs": [
    {
     "name": "stderr",
     "output_type": "stream",
     "text": [
      "100%|███████████████████████████████████| 49945/49945 [00:22<00:00, 2205.37it/s]\n",
      "100%|███████████████████████████████████| 50000/50000 [00:21<00:00, 2344.74it/s]\n",
      "100%|█████████████████████████████████████████| 892/892 [00:38<00:00, 22.97it/s]\n"
     ]
    }
   ],
   "source": [
    "Jaguar = JaguarApproximator(oracle, gamma=1e-5)\n",
    "Lame = LameApproximator(oracle, gamma=1e-5)\n",
    "Turtle = TurtleApproximator(oracle, gamma=1e-5)\n",
    "\n",
    "approx_list = [Jaguar, Lame, Turtle]\n",
    "lr_list = [learning_rate_jaguar, learning_rate_lame, learning_rate_turtle]\n",
    "\n",
    "optimizers_list = []\n",
    "for approximator, lr in zip(approx_list, lr_list):\n",
    "    opt = FWOptimizer(approximator, lr, x_0, sett, x_sol=x_sol, max_oracle_calls=10**5)\n",
    "    opt.optimize()\n",
    "    optimizers_list.append(opt)"
   ]
  },
  {
   "cell_type": "code",
   "execution_count": 220,
   "id": "2c7ea40b",
   "metadata": {
    "ExecuteTime": {
     "end_time": "2023-12-16T10:23:24.900456Z",
     "start_time": "2023-12-16T10:23:24.304717Z"
    },
    "scrolled": false
   },
   "outputs": [
    {
     "data": {
      "image/png": "[encoded data removed]",
      "text/plain": [
       "<Figure size 325x200.861 with 1 Axes>"
      ]
     },
     "metadata": {},
     "output_type": "display_data"
    }
   ],
   "source": [
    "make_err_plot(optimizers_list, save_name=\"Non_stochastics_FW_Reg_L2\")"
   ]
  },
  {
   "cell_type": "markdown",
   "id": "c609e664",
   "metadata": {},
   "source": [
    "## None-stochastic GD LogReg on L2-ball"
   ]
  },
  {
   "cell_type": "code",
   "execution_count": 221,
   "id": "5a6449f9",
   "metadata": {},
   "outputs": [],
   "source": [
    "func_name = \"mushrooms\"\n",
    "d = 112\n",
    "seed = 42\n",
    "sigma = 0\n",
    "sett = L2Ball(radius=0.5)\n",
    "L = 5.25\n",
    "\n",
    "args = init_experiment(func_name, d)\n",
    "\n",
    "x_0 = np.random.random(size=d)\n",
    "x_0 = x_0 / np.linalg.norm(x_0) * 0.5"
   ]
  },
  {
   "cell_type": "code",
   "execution_count": 222,
   "id": "6c2256aa",
   "metadata": {},
   "outputs": [],
   "source": [
    "def learning_rate(k):\n",
    "    return 1 / L"
   ]
  },
  {
   "cell_type": "code",
   "execution_count": 223,
   "id": "6fdf64f3",
   "metadata": {
    "scrolled": true
   },
   "outputs": [
    {
     "name": "stderr",
     "output_type": "stream",
     "text": [
      "100%|██████████████████████████████████████| 1000/1000 [00:03<00:00, 252.47it/s]\n"
     ]
    }
   ],
   "source": [
    "TrueGradient = TrueGradientApproximator(func_name, args=args) \n",
    "GD = GDOptimizer(TrueGradient, learning_rate, x_0, sett, max_oracle_calls=10**3)\n",
    "GD.optimize()"
   ]
  },
  {
   "cell_type": "code",
   "execution_count": 224,
   "id": "fa0d6570",
   "metadata": {
    "scrolled": true
   },
   "outputs": [
    {
     "data": {
      "image/png": "[encoded data removed]",
      "text/plain": [
       "<Figure size 325x200.861 with 1 Axes>"
      ]
     },
     "metadata": {},
     "output_type": "display_data"
    },
    {
     "name": "stdout",
     "output_type": "stream",
     "text": [
      "0.4999999999999999\n"
     ]
    }
   ],
   "source": [
    "make_err_plot([GD], title=\"GD\", labels=[\"GD\"])\n",
    "x_sol = GD.x_curr\n",
    "print(np.linalg.norm(x_sol))"
   ]
  },
  {
   "cell_type": "code",
   "execution_count": 236,
   "id": "0932a0dc",
   "metadata": {},
   "outputs": [],
   "source": [
    "def learning_rate_jaguar(k):\n",
    "    return 20 / (k + 1)\n",
    "\n",
    "def learning_rate_lame(k):\n",
    "    return (2 * np.sqrt(k) + 1) / (k + L)\n",
    "\n",
    "def learning_rate_turtle(k):\n",
    "    return (2 * np.sqrt(k) + 1) / (k + L)"
   ]
  },
  {
   "cell_type": "code",
   "execution_count": 237,
   "id": "174ffe07",
   "metadata": {
    "ExecuteTime": {
     "end_time": "2023-12-16T10:24:09.075257Z",
     "start_time": "2023-12-16T10:24:09.008035Z"
    }
   },
   "outputs": [],
   "source": [
    "oracle = ZO_oracle(func_name, sigma, oracle_mode=\"opf\", args=args)"
   ]
  },
  {
   "cell_type": "code",
   "execution_count": 240,
   "id": "dd2f49a1",
   "metadata": {
    "ExecuteTime": {
     "end_time": "2023-12-16T10:30:49.162076Z",
     "start_time": "2023-12-16T10:26:45.788520Z"
    }
   },
   "outputs": [
    {
     "name": "stderr",
     "output_type": "stream",
     "text": [
      " 35%|█████████████▌                         | 1712/4945 [01:23<02:37, 20.53it/s]\n"
     ]
    },
    {
     "name": "stdout",
     "output_type": "stream",
     "text": [
      "Precision 1e-06 achieved at step 1712!\n"
     ]
    },
    {
     "name": "stderr",
     "output_type": "stream",
     "text": [
      "100%|███████████████████████████████████████| 5000/5000 [03:36<00:00, 23.05it/s]\n",
      " 22%|█████████▋                                 | 20/89 [01:34<05:24,  4.70s/it]"
     ]
    },
    {
     "name": "stdout",
     "output_type": "stream",
     "text": [
      "Precision 1e-06 achieved at step 20!\n"
     ]
    },
    {
     "name": "stderr",
     "output_type": "stream",
     "text": [
      "\n"
     ]
    }
   ],
   "source": [
    "Jaguar = JaguarApproximator(oracle, gamma=1e-5)\n",
    "Lame = LameApproximator(oracle, gamma=1e-5)\n",
    "Turtle = TurtleApproximator(oracle, gamma=1e-5)\n",
    "\n",
    "approx_list = [Jaguar, Lame, Turtle]\n",
    "lr_list = [learning_rate_jaguar, learning_rate_lame, learning_rate_turtle]\n",
    "\n",
    "optimizers_list = []\n",
    "for approximator, lr in zip(approx_list, lr_list):\n",
    "    opt = GDOptimizer(approximator, lr, x_0, sett, x_sol=x_sol, max_oracle_calls=10**4)\n",
    "    opt.optimize()\n",
    "    optimizers_list.append(opt)"
   ]
  },
  {
   "cell_type": "code",
   "execution_count": 242,
   "id": "141e116e",
   "metadata": {
    "ExecuteTime": {
     "end_time": "2023-12-16T10:30:49.781049Z",
     "start_time": "2023-12-16T10:30:49.165761Z"
    }
   },
   "outputs": [
    {
     "data": {
      "image/png": "[encoded data removed]",
      "text/plain": [
       "<Figure size 325x200.861 with 1 Axes>"
      ]
     },
     "metadata": {},
     "output_type": "display_data"
    }
   ],
   "source": [
    "make_err_plot(optimizers_list, save_name=\"Non_stochastics_GD_LogReg_L2\")"
   ]
  },
  {
   "cell_type": "markdown",
   "id": "9d4610bd",
   "metadata": {},
   "source": [
    "## None-stochastic GD Reg on L2-ball"
   ]
  },
  {
   "cell_type": "code",
   "execution_count": 331,
   "id": "6521bbd7",
   "metadata": {},
   "outputs": [],
   "source": [
    "func_name = \"quadratic\"\n",
    "d = 112\n",
    "seed = 101\n",
    "sigma = 0\n",
    "sett = L2Ball(radius=0.5)\n",
    "L = 1000\n",
    "mu = 1\n",
    "\n",
    "args = init_experiment(func_name, d, L=L, mu=mu)\n",
    "\n",
    "x_0 = np.random.random(size=d)\n",
    "x_0 = x_0 / np.linalg.norm(x_0) * 0.5"
   ]
  },
  {
   "cell_type": "code",
   "execution_count": 332,
   "id": "7e50291e",
   "metadata": {},
   "outputs": [],
   "source": [
    "def learning_rate(k):\n",
    "    return 1 / L"
   ]
  },
  {
   "cell_type": "code",
   "execution_count": 333,
   "id": "273ea211",
   "metadata": {},
   "outputs": [
    {
     "name": "stderr",
     "output_type": "stream",
     "text": [
      "100%|████████████████████████████████| 100000/100000 [00:03<00:00, 27901.94it/s]\n"
     ]
    }
   ],
   "source": [
    "TrueGradient = TrueGradientApproximator(func_name, args=args) \n",
    "GD = GDOptimizer(TrueGradient, learning_rate, x_0, sett, max_oracle_calls=10**5)\n",
    "GD.optimize()"
   ]
  },
  {
   "cell_type": "code",
   "execution_count": 334,
   "id": "6110f1a2",
   "metadata": {},
   "outputs": [
    {
     "data": {
      "image/png": "[encoded data removed]",
      "text/plain": [
       "<Figure size 325x200.861 with 1 Axes>"
      ]
     },
     "metadata": {},
     "output_type": "display_data"
    },
    {
     "name": "stdout",
     "output_type": "stream",
     "text": [
      "0.49999999999999994\n"
     ]
    }
   ],
   "source": [
    "make_err_plot([GD], title=\"GD\", labels=[\"GD\"])\n",
    "x_sol = GD.x_curr\n",
    "print(np.linalg.norm(x_sol))"
   ]
  },
  {
   "cell_type": "code",
   "execution_count": 453,
   "id": "9e1930c5",
   "metadata": {},
   "outputs": [],
   "source": [
    "def learning_rate_jaguar(k):\n",
    "    return 1 / 63000\n",
    "\n",
    "def learning_rate_lame(k):\n",
    "    return (np.sqrt(k) + 1) / (2 * k + L)\n",
    "\n",
    "def learning_rate_turtle(k):\n",
    "    return 1 / (k + L)"
   ]
  },
  {
   "cell_type": "code",
   "execution_count": 454,
   "id": "dbad2c24",
   "metadata": {},
   "outputs": [],
   "source": [
    "oracle = ZO_oracle(func_name, sigma, oracle_mode=\"tpf\", args=args)"
   ]
  },
  {
   "cell_type": "code",
   "execution_count": 455,
   "id": "a5da14ab",
   "metadata": {},
   "outputs": [
    {
     "name": "stderr",
     "output_type": "stream",
     "text": [
      " 63%|█████████████████████▉             | 31363/49945 [00:12<00:07, 2446.72it/s]\n"
     ]
    },
    {
     "name": "stdout",
     "output_type": "stream",
     "text": [
      "Precision 1e-06 achieved at step 31363!\n"
     ]
    },
    {
     "name": "stderr",
     "output_type": "stream",
     "text": [
      "100%|███████████████████████████████████| 50000/50000 [00:19<00:00, 2555.13it/s]\n",
      " 69%|████████████████████████████▏            | 614/892 [00:26<00:11, 23.51it/s]"
     ]
    },
    {
     "name": "stdout",
     "output_type": "stream",
     "text": [
      "Precision 1e-06 achieved at step 614!\n"
     ]
    },
    {
     "name": "stderr",
     "output_type": "stream",
     "text": [
      "\n"
     ]
    }
   ],
   "source": [
    "Jaguar = JaguarApproximator(oracle, gamma=1e-5)\n",
    "Lame = LameApproximator(oracle, gamma=1e-5)\n",
    "Turtle = TurtleApproximator(oracle, gamma=1e-5)\n",
    "\n",
    "approx_list = [Jaguar, Lame, Turtle]\n",
    "lr_list = [learning_rate_jaguar, learning_rate_lame, learning_rate_turtle]\n",
    "\n",
    "optimizers_list = []\n",
    "for approximator, lr in zip(approx_list, lr_list):\n",
    "    opt = GDOptimizer(approximator, lr, x_0, sett, x_sol=x_sol, max_oracle_calls=10**5)\n",
    "    opt.optimize()\n",
    "    optimizers_list.append(opt)"
   ]
  },
  {
   "cell_type": "code",
   "execution_count": 457,
   "id": "79227f5a",
   "metadata": {},
   "outputs": [
    {
     "data": {
      "image/png": "[encoded data removed]",
      "text/plain": [
       "<Figure size 325x200.861 with 1 Axes>"
      ]
     },
     "metadata": {},
     "output_type": "display_data"
    }
   ],
   "source": [
    "make_err_plot(optimizers_list, save_name=\"Non_stochastics_GD_Reg_L2\")"
   ]
  },
  {
   "cell_type": "markdown",
   "id": "447adba4",
   "metadata": {},
   "source": [
    "## Stochastic OPF FW LogReg on L2-ball"
   ]
  },
  {
   "cell_type": "code",
   "execution_count": 458,
   "id": "bc88fac8",
   "metadata": {},
   "outputs": [],
   "source": [
    "func_name = \"mushrooms\"\n",
    "d = 112\n",
    "seed = 42\n",
    "sigma = 1\n",
    "sett = L2Ball(radius=0.5)\n",
    "L = 5.25\n",
    "\n",
    "args = init_experiment(func_name, d)\n",
    "\n",
    "x_0 = np.random.random(size=d)\n",
    "x_0 = x_0 / np.linalg.norm(x_0) * 0.5"
   ]
  },
  {
   "cell_type": "code",
   "execution_count": 459,
   "id": "2347950d",
   "metadata": {},
   "outputs": [],
   "source": [
    "def learning_rate(k):\n",
    "    return 1 / L"
   ]
  },
  {
   "cell_type": "code",
   "execution_count": 460,
   "id": "3e23c3f3",
   "metadata": {},
   "outputs": [
    {
     "name": "stderr",
     "output_type": "stream",
     "text": [
      "100%|██████████████████████████████████████| 1000/1000 [00:04<00:00, 246.25it/s]\n"
     ]
    }
   ],
   "source": [
    "TrueGradient = TrueGradientApproximator(func_name, args=args) \n",
    "GD = GDOptimizer(TrueGradient, learning_rate, x_0, sett, max_oracle_calls=10**3)\n",
    "GD.optimize()"
   ]
  },
  {
   "cell_type": "code",
   "execution_count": 461,
   "id": "bc8129c6",
   "metadata": {},
   "outputs": [
    {
     "data": {
      "image/png": "[encoded data removed]",
      "text/plain": [
       "<Figure size 325x200.861 with 1 Axes>"
      ]
     },
     "metadata": {},
     "output_type": "display_data"
    },
    {
     "name": "stdout",
     "output_type": "stream",
     "text": [
      "0.49999999999999983\n"
     ]
    }
   ],
   "source": [
    "make_err_plot([GD], title=\"GD\", labels=[\"GD\"])\n",
    "x_sol = GD.x_curr\n",
    "print(np.linalg.norm(x_sol))"
   ]
  },
  {
   "cell_type": "code",
   "execution_count": 536,
   "id": "98275916",
   "metadata": {},
   "outputs": [],
   "source": [
    "def learning_rate_jaguar(k):\n",
    "    return 1 / (k + 10)\n",
    "\n",
    "def learning_rate_lame(k):\n",
    "    return (np.sqrt(k) + 1) / (10 * k + 6)\n",
    "\n",
    "def learning_rate_turtle(k):\n",
    "    return (np.sqrt(k) + 1) / (2 * k + 6)"
   ]
  },
  {
   "cell_type": "code",
   "execution_count": 537,
   "id": "76be672e",
   "metadata": {},
   "outputs": [],
   "source": [
    "def momentum_k(k):\n",
    "    return 2 * k / (2 * k + 100)"
   ]
  },
  {
   "cell_type": "code",
   "execution_count": 538,
   "id": "138c7b01",
   "metadata": {},
   "outputs": [],
   "source": [
    "oracle = ZO_oracle(func_name, sigma, oracle_mode=\"opf\", args=args)"
   ]
  },
  {
   "cell_type": "code",
   "execution_count": 541,
   "id": "a7f78735",
   "metadata": {},
   "outputs": [
    {
     "name": "stderr",
     "output_type": "stream",
     "text": [
      "100%|███████████████████████████████████████| 2445/2445 [01:49<00:00, 22.33it/s]\n",
      "100%|███████████████████████████████████████| 2500/2500 [01:47<00:00, 23.24it/s]\n",
      "100%|███████████████████████████████████████████| 44/44 [03:19<00:00,  4.53s/it]\n"
     ]
    }
   ],
   "source": [
    "Jaguar = JaguarApproximator(oracle, momentum_k=momentum_k, gamma=1e-5)\n",
    "Lame = LameApproximator(oracle, gamma=1e-5)\n",
    "Turtle = TurtleApproximator(oracle, gamma=1e-5)\n",
    "\n",
    "approx_list = [Jaguar, Lame, Turtle]\n",
    "lr_list = [learning_rate_jaguar, learning_rate_lame, learning_rate_turtle]\n",
    "\n",
    "optimizers_list = []\n",
    "for approximator, lr in zip(approx_list, lr_list):\n",
    "    opt = FWOptimizer(approximator, lr, x_0, sett, x_sol=x_sol, max_oracle_calls=5 * 10**3)\n",
    "    opt.optimize()\n",
    "    optimizers_list.append(opt)"
   ]
  },
  {
   "cell_type": "code",
   "execution_count": 542,
   "id": "f3cb2935",
   "metadata": {},
   "outputs": [
    {
     "data": {
      "image/png": "[encoded data removed]",
      "text/plain": [
       "<Figure size 325x200.861 with 1 Axes>"
      ]
     },
     "metadata": {},
     "output_type": "display_data"
    }
   ],
   "source": [
    "make_err_plot(optimizers_list, save_name=\"Stochastics_OPF_FW_LogReg_L2\")"
   ]
  },
  {
   "cell_type": "markdown",
   "id": "41a95298",
   "metadata": {},
   "source": [
    "## Stochastic TPF FW LogReg on L2-ball"
   ]
  },
  {
   "cell_type": "code",
   "execution_count": 602,
   "id": "26a43b13",
   "metadata": {},
   "outputs": [],
   "source": [
    "func_name = \"mushrooms\"\n",
    "d = 112\n",
    "seed = 42\n",
    "sigma = 1\n",
    "sett = L2Ball(radius=0.5)\n",
    "L = 5.25\n",
    "\n",
    "args = init_experiment(func_name, d)\n",
    "\n",
    "x_0 = np.random.random(size=d)\n",
    "x_0 = x_0 / np.linalg.norm(x_0) * 0.5"
   ]
  },
  {
   "cell_type": "code",
   "execution_count": 603,
   "id": "4e69e4fe",
   "metadata": {},
   "outputs": [],
   "source": [
    "def learning_rate(k):\n",
    "    return 1 / L"
   ]
  },
  {
   "cell_type": "code",
   "execution_count": 604,
   "id": "cee69c4f",
   "metadata": {},
   "outputs": [
    {
     "name": "stderr",
     "output_type": "stream",
     "text": [
      "100%|██████████████████████████████████████| 1000/1000 [00:03<00:00, 309.60it/s]\n"
     ]
    }
   ],
   "source": [
    "TrueGradient = TrueGradientApproximator(func_name, args=args) \n",
    "GD = GDOptimizer(TrueGradient, learning_rate, x_0, sett, max_oracle_calls=10**3)\n",
    "GD.optimize()"
   ]
  },
  {
   "cell_type": "code",
   "execution_count": 605,
   "id": "dd1658c5",
   "metadata": {},
   "outputs": [
    {
     "data": {
      "image/png": "[encoded data removed]",
      "text/plain": [
       "<Figure size 325x200.861 with 1 Axes>"
      ]
     },
     "metadata": {},
     "output_type": "display_data"
    },
    {
     "name": "stdout",
     "output_type": "stream",
     "text": [
      "0.4999999999999999\n"
     ]
    }
   ],
   "source": [
    "make_err_plot([GD], title=\"GD\", labels=[\"GD\"])\n",
    "x_sol = GD.x_curr\n",
    "print(np.linalg.norm(x_sol))"
   ]
  },
  {
   "cell_type": "code",
   "execution_count": 606,
   "id": "acb5b761",
   "metadata": {},
   "outputs": [],
   "source": [
    "def learning_rate_jaguar(k):\n",
    "    return (10 * np.sqrt(k) + 1) / (3 * k + 6)\n",
    "\n",
    "def learning_rate_lame(k):\n",
    "    return (10 * np.sqrt(k) + 1) / (3 * k + 6)\n",
    "\n",
    "def learning_rate_turtle(k):\n",
    "    return (np.sqrt(k) + 1) / (2 * k + 6)"
   ]
  },
  {
   "cell_type": "code",
   "execution_count": 607,
   "id": "24aeccdd",
   "metadata": {},
   "outputs": [],
   "source": [
    "def momentum_k(k):\n",
    "    return 0.9 * k / (k + 10)"
   ]
  },
  {
   "cell_type": "code",
   "execution_count": 608,
   "id": "a98aed15",
   "metadata": {},
   "outputs": [],
   "source": [
    "oracle = ZO_oracle(func_name, sigma, oracle_mode=\"tpf\", args=args)"
   ]
  },
  {
   "cell_type": "code",
   "execution_count": 609,
   "id": "bcd4b491",
   "metadata": {},
   "outputs": [
    {
     "name": "stderr",
     "output_type": "stream",
     "text": [
      "100%|███████████████████████████████████████| 2445/2445 [01:12<00:00, 33.66it/s]\n",
      "100%|███████████████████████████████████████| 2500/2500 [01:10<00:00, 35.59it/s]\n",
      "100%|███████████████████████████████████████████| 44/44 [01:54<00:00,  2.60s/it]\n"
     ]
    }
   ],
   "source": [
    "Jaguar = JaguarApproximator(oracle, momentum_k=momentum_k, gamma=1e-5)\n",
    "Lame = LameApproximator(oracle, gamma=1e-5)\n",
    "Turtle = TurtleApproximator(oracle, gamma=1e-5)\n",
    "\n",
    "approx_list = [Jaguar, Lame, Turtle]\n",
    "lr_list = [learning_rate_jaguar, learning_rate_lame, learning_rate_turtle]\n",
    "\n",
    "optimizers_list = []\n",
    "for approximator, lr in zip(approx_list, lr_list):\n",
    "    opt = FWOptimizer(approximator, lr, x_0, sett, x_sol=x_sol, max_oracle_calls=5 * 10**3)\n",
    "    opt.optimize()\n",
    "    optimizers_list.append(opt)"
   ]
  },
  {
   "cell_type": "code",
   "execution_count": 610,
   "id": "dfb619d0",
   "metadata": {},
   "outputs": [
    {
     "data": {
      "image/png": "[encoded data removed]",
      "text/plain": [
       "<Figure size 325x200.861 with 1 Axes>"
      ]
     },
     "metadata": {},
     "output_type": "display_data"
    }
   ],
   "source": [
    "make_err_plot(optimizers_list, save_name=\"Stochastics_TPF_FW_LogReg_L2\")"
   ]
  },
  {
   "cell_type": "markdown",
   "id": "53e048ba",
   "metadata": {},
   "source": [
    "## Stochastic OPF-TPF FW LogReg on L2-ball"
   ]
  },
  {
   "cell_type": "code",
   "execution_count": 587,
   "id": "b594e885",
   "metadata": {},
   "outputs": [],
   "source": [
    "func_name = \"mushrooms\"\n",
    "d = 112\n",
    "seed = 42\n",
    "sigma = 1\n",
    "sett = L2Ball(radius=0.5)\n",
    "L = 5.25\n",
    "\n",
    "args = init_experiment(func_name, d)\n",
    "\n",
    "x_0 = np.random.random(size=d)\n",
    "x_0 = x_0 / np.linalg.norm(x_0) * 0.5"
   ]
  },
  {
   "cell_type": "code",
   "execution_count": 588,
   "id": "cdbc1f02",
   "metadata": {},
   "outputs": [],
   "source": [
    "def learning_rate(k):\n",
    "    return 1 / L"
   ]
  },
  {
   "cell_type": "code",
   "execution_count": 589,
   "id": "d9bf2775",
   "metadata": {},
   "outputs": [
    {
     "name": "stderr",
     "output_type": "stream",
     "text": [
      "100%|██████████████████████████████████████| 1000/1000 [00:03<00:00, 273.06it/s]\n"
     ]
    }
   ],
   "source": [
    "TrueGradient = TrueGradientApproximator(func_name, args=args) \n",
    "GD = GDOptimizer(TrueGradient, learning_rate, x_0, sett, max_oracle_calls=10**3)\n",
    "GD.optimize()"
   ]
  },
  {
   "cell_type": "code",
   "execution_count": 590,
   "id": "b3678e71",
   "metadata": {},
   "outputs": [
    {
     "data": {
      "image/png": "[encoded data removed]",
      "text/plain": [
       "<Figure size 325x200.861 with 1 Axes>"
      ]
     },
     "metadata": {},
     "output_type": "display_data"
    },
    {
     "name": "stdout",
     "output_type": "stream",
     "text": [
      "0.4999999999999999\n"
     ]
    }
   ],
   "source": [
    "make_err_plot([GD], title=\"GD\", labels=[\"GD\"])\n",
    "x_sol = GD.x_curr\n",
    "print(np.linalg.norm(x_sol))"
   ]
  },
  {
   "cell_type": "code",
   "execution_count": 596,
   "id": "11693b24",
   "metadata": {},
   "outputs": [],
   "source": [
    "def learning_rate_jaguar_opf(k):\n",
    "    return 1 / (k + 10)\n",
    "\n",
    "def learning_rate_jaguar_tpf(k):\n",
    "    return (10 * np.sqrt(k) + 1) / (3 * k + 6)"
   ]
  },
  {
   "cell_type": "code",
   "execution_count": 597,
   "id": "0bb4b874",
   "metadata": {},
   "outputs": [],
   "source": [
    "def momentum_k_opf(k):\n",
    "    return 2 * k / (2 * k + 100)\n",
    "\n",
    "def momentum_k_tpf(k):\n",
    "    return 0.9 * k / (k + 10)"
   ]
  },
  {
   "cell_type": "code",
   "execution_count": 598,
   "id": "52aa722b",
   "metadata": {},
   "outputs": [],
   "source": [
    "oracle_opf = ZO_oracle(func_name, sigma, oracle_mode=\"opf\", args=args)\n",
    "oracle_tpf = ZO_oracle(func_name, sigma, oracle_mode=\"tpf\", args=args)"
   ]
  },
  {
   "cell_type": "code",
   "execution_count": 599,
   "id": "71367383",
   "metadata": {},
   "outputs": [
    {
     "name": "stderr",
     "output_type": "stream",
     "text": [
      "100%|███████████████████████████████████████| 2445/2445 [01:49<00:00, 22.42it/s]\n",
      "100%|███████████████████████████████████████| 2445/2445 [01:08<00:00, 35.85it/s]\n"
     ]
    }
   ],
   "source": [
    "Jaguar_opf = JaguarApproximator(oracle_opf, momentum_k=momentum_k_opf, gamma=1e-5)\n",
    "Jaguar_tpf = JaguarApproximator(oracle_tpf, momentum_k=momentum_k_tpf, gamma=1e-5)\n",
    "\n",
    "approx_list = [Jaguar_opf, Jaguar_tpf]\n",
    "lr_list = [learning_rate_jaguar_opf, learning_rate_jaguar_tpf]\n",
    "\n",
    "optimizers_list = []\n",
    "for approximator, lr in zip(approx_list, lr_list):\n",
    "    opt = FWOptimizer(approximator, lr, x_0, sett, x_sol=x_sol, max_oracle_calls=5 * 10**3)\n",
    "    opt.optimize()\n",
    "    optimizers_list.append(opt)"
   ]
  },
  {
   "cell_type": "code",
   "execution_count": 601,
   "id": "44083d23",
   "metadata": {},
   "outputs": [
    {
     "data": {
      "image/png": "[encoded data removed]",
      "text/plain": [
       "<Figure size 325x200.861 with 1 Axes>"
      ]
     },
     "metadata": {},
     "output_type": "display_data"
    }
   ],
   "source": [
    "make_err_plot(optimizers_list, save_name=\"Stochastics_OPF_TPF_FW_LogReg_L2\", labels=[\"opf\", \"tpf\"])"
   ]
  },
  {
   "cell_type": "markdown",
   "id": "8afdf1c3",
   "metadata": {},
   "source": [
    "## Stochastic OPF FW Reg on L2-ball"
   ]
  },
  {
   "cell_type": "code",
   "execution_count": 611,
   "id": "c6cef592",
   "metadata": {},
   "outputs": [],
   "source": [
    "func_name = \"quadratic\"\n",
    "d = 112\n",
    "seed = 101\n",
    "sigma = 1\n",
    "sett = L2Ball(radius=0.5)\n",
    "L = 1000\n",
    "mu = 1\n",
    "\n",
    "args = init_experiment(func_name, d, L=L, mu=mu)\n",
    "\n",
    "x_0 = np.random.random(size=d)\n",
    "x_0 = x_0 / np.linalg.norm(x_0) * 0.5"
   ]
  },
  {
   "cell_type": "code",
   "execution_count": 612,
   "id": "c5b008c8",
   "metadata": {},
   "outputs": [],
   "source": [
    "def learning_rate(k):\n",
    "    return 1 / L"
   ]
  },
  {
   "cell_type": "code",
   "execution_count": 617,
   "id": "34ab175d",
   "metadata": {},
   "outputs": [
    {
     "name": "stderr",
     "output_type": "stream",
     "text": [
      "100%|████████████████████████████████| 100000/100000 [00:03<00:00, 32866.88it/s]\n"
     ]
    }
   ],
   "source": [
    "TrueGradient = TrueGradientApproximator(func_name, args=args) \n",
    "GD = GDOptimizer(TrueGradient, learning_rate, x_0, sett, max_oracle_calls=10**5)\n",
    "GD.optimize()"
   ]
  },
  {
   "cell_type": "code",
   "execution_count": 618,
   "id": "16f9bb7e",
   "metadata": {},
   "outputs": [
    {
     "data": {
      "image/png": "[encoded data removed]",
      "text/plain": [
       "<Figure size 325x200.861 with 1 Axes>"
      ]
     },
     "metadata": {},
     "output_type": "display_data"
    },
    {
     "name": "stdout",
     "output_type": "stream",
     "text": [
      "0.49999999999999994\n"
     ]
    }
   ],
   "source": [
    "make_err_plot([GD], title=\"GD\", labels=[\"GD\"])\n",
    "x_sol = GD.x_curr\n",
    "print(np.linalg.norm(x_sol))"
   ]
  },
  {
   "cell_type": "code",
   "execution_count": 747,
   "id": "513d238a",
   "metadata": {},
   "outputs": [],
   "source": [
    "def learning_rate_jaguar(k):\n",
    "    return 1 / (k + 3)\n",
    "\n",
    "def learning_rate_lame(k):\n",
    "    return 1 / (3 * k + 6)\n",
    "\n",
    "def learning_rate_turtle(k):\n",
    "    return (np.sqrt(k) + 1) / (2 * k + 6)"
   ]
  },
  {
   "cell_type": "code",
   "execution_count": 748,
   "id": "55ed677a",
   "metadata": {},
   "outputs": [],
   "source": [
    "def momentum_k(k):\n",
    "    return 0.95 * k / (k + 10)"
   ]
  },
  {
   "cell_type": "code",
   "execution_count": 749,
   "id": "151a8431",
   "metadata": {},
   "outputs": [],
   "source": [
    "oracle = ZO_oracle(func_name, sigma, oracle_mode=\"opf\", args=args)"
   ]
  },
  {
   "cell_type": "code",
   "execution_count": 753,
   "id": "d071f1ce",
   "metadata": {},
   "outputs": [
    {
     "name": "stderr",
     "output_type": "stream",
     "text": [
      "100%|███████████████████████████████████| 49945/49945 [00:42<00:00, 1168.60it/s]\n",
      "100%|████████████████████████████████████| 50000/50000 [00:52<00:00, 950.98it/s]\n",
      "100%|█████████████████████████████████████████| 892/892 [01:22<00:00, 10.78it/s]\n"
     ]
    }
   ],
   "source": [
    "Jaguar = JaguarApproximator(oracle, momentum_k=momentum_k, gamma=1e-5)\n",
    "Lame = LameApproximator(oracle, gamma=1e-5)\n",
    "Turtle = TurtleApproximator(oracle, gamma=1e-5)\n",
    "\n",
    "approx_list = [Jaguar, Lame, Turtle]\n",
    "lr_list = [learning_rate_jaguar, learning_rate_lame, learning_rate_turtle]\n",
    "\n",
    "optimizers_list = []\n",
    "for approximator, lr in zip(approx_list, lr_list):\n",
    "    opt = FWOptimizer(approximator, lr, x_0, sett, x_sol=x_sol, max_oracle_calls=10**5)\n",
    "    opt.optimize()\n",
    "    optimizers_list.append(opt)"
   ]
  },
  {
   "cell_type": "code",
   "execution_count": 754,
   "id": "f2ee357f",
   "metadata": {},
   "outputs": [
    {
     "data": {
      "image/png": "[encoded data removed]",
      "text/plain": [
       "<Figure size 325x200.861 with 1 Axes>"
      ]
     },
     "metadata": {},
     "output_type": "display_data"
    }
   ],
   "source": [
    "make_err_plot(optimizers_list, save_name=\"Stochastics_OPF_FW_Reg_L2\")"
   ]
  },
  {
   "cell_type": "markdown",
   "id": "6e5e801d",
   "metadata": {},
   "source": [
    "## Stochastic TPF FW Reg on L2-ball"
   ]
  },
  {
   "cell_type": "code",
   "execution_count": 755,
   "id": "1b402d88",
   "metadata": {},
   "outputs": [],
   "source": [
    "func_name = \"quadratic\"\n",
    "d = 112\n",
    "seed = 101\n",
    "sigma = 1\n",
    "sett = L2Ball(radius=0.5)\n",
    "L = 1000\n",
    "mu = 1\n",
    "\n",
    "args = init_experiment(func_name, d, L=L, mu=mu)\n",
    "\n",
    "x_0 = np.random.random(size=d)\n",
    "x_0 = x_0 / np.linalg.norm(x_0) * 0.5"
   ]
  },
  {
   "cell_type": "code",
   "execution_count": 756,
   "id": "bb684d51",
   "metadata": {},
   "outputs": [],
   "source": [
    "def learning_rate(k):\n",
    "    return 1 / L"
   ]
  },
  {
   "cell_type": "code",
   "execution_count": 757,
   "id": "2d69b43b",
   "metadata": {},
   "outputs": [
    {
     "name": "stderr",
     "output_type": "stream",
     "text": [
      "100%|████████████████████████████████| 100000/100000 [00:03<00:00, 25628.35it/s]\n"
     ]
    }
   ],
   "source": [
    "TrueGradient = TrueGradientApproximator(func_name, args=args) \n",
    "GD = GDOptimizer(TrueGradient, learning_rate, x_0, sett, max_oracle_calls=10**5)\n",
    "GD.optimize()"
   ]
  },
  {
   "cell_type": "code",
   "execution_count": 758,
   "id": "b23dbe87",
   "metadata": {},
   "outputs": [
    {
     "data": {
      "image/png": "[encoded data removed]",
      "text/plain": [
       "<Figure size 325x200.861 with 1 Axes>"
      ]
     },
     "metadata": {},
     "output_type": "display_data"
    },
    {
     "name": "stdout",
     "output_type": "stream",
     "text": [
      "0.49999999999999994\n"
     ]
    }
   ],
   "source": [
    "make_err_plot([GD], title=\"GD\", labels=[\"GD\"])\n",
    "x_sol = GD.x_curr\n",
    "print(np.linalg.norm(x_sol))"
   ]
  },
  {
   "cell_type": "code",
   "execution_count": 759,
   "id": "76233cc2",
   "metadata": {},
   "outputs": [],
   "source": [
    "def learning_rate_jaguar(k):\n",
    "    return 1 / (k + 3)\n",
    "\n",
    "def learning_rate_lame(k):\n",
    "    return 1 / (3 * k + 6)\n",
    "\n",
    "def learning_rate_turtle(k):\n",
    "    return (np.sqrt(k) + 1) / (2 * k + 6)"
   ]
  },
  {
   "cell_type": "code",
   "execution_count": 760,
   "id": "03fb4f8c",
   "metadata": {},
   "outputs": [],
   "source": [
    "def momentum_k(k):\n",
    "    return 0.95 * k / (k + 10)"
   ]
  },
  {
   "cell_type": "code",
   "execution_count": 761,
   "id": "7211080f",
   "metadata": {},
   "outputs": [],
   "source": [
    "oracle = ZO_oracle(func_name, sigma, oracle_mode=\"tpf\", args=args)"
   ]
  },
  {
   "cell_type": "code",
   "execution_count": 762,
   "id": "4fb34264",
   "metadata": {},
   "outputs": [
    {
     "name": "stderr",
     "output_type": "stream",
     "text": [
      "100%|███████████████████████████████████| 49945/49945 [00:24<00:00, 2070.12it/s]\n",
      "100%|███████████████████████████████████| 50000/50000 [00:21<00:00, 2356.80it/s]\n",
      "100%|█████████████████████████████████████████| 892/892 [00:40<00:00, 22.15it/s]\n"
     ]
    }
   ],
   "source": [
    "Jaguar = JaguarApproximator(oracle, momentum_k=momentum_k, gamma=1e-5)\n",
    "Lame = LameApproximator(oracle, gamma=1e-5)\n",
    "Turtle = TurtleApproximator(oracle, gamma=1e-5)\n",
    "\n",
    "approx_list = [Jaguar, Lame, Turtle]\n",
    "lr_list = [learning_rate_jaguar, learning_rate_lame, learning_rate_turtle]\n",
    "\n",
    "optimizers_list = []\n",
    "for approximator, lr in zip(approx_list, lr_list):\n",
    "    opt = FWOptimizer(approximator, lr, x_0, sett, x_sol=x_sol, max_oracle_calls=10**5)\n",
    "    opt.optimize()\n",
    "    optimizers_list.append(opt)"
   ]
  },
  {
   "cell_type": "code",
   "execution_count": 763,
   "id": "93d9d833",
   "metadata": {},
   "outputs": [
    {
     "data": {
      "image/png": "[encoded data removed]",
      "text/plain": [
       "<Figure size 325x200.861 with 1 Axes>"
      ]
     },
     "metadata": {},
     "output_type": "display_data"
    }
   ],
   "source": [
    "make_err_plot(optimizers_list, save_name=\"Stochastics_TPF_FW_Reg_L2\")"
   ]
  },
  {
   "cell_type": "markdown",
   "id": "6164dd50",
   "metadata": {},
   "source": [
    "## Stochastic OPF-TPF FW Reg on L2-ball"
   ]
  },
  {
   "cell_type": "code",
   "execution_count": 764,
   "id": "3efadb1c",
   "metadata": {},
   "outputs": [],
   "source": [
    "func_name = \"quadratic\"\n",
    "d = 112\n",
    "seed = 101\n",
    "sigma = 1\n",
    "sett = L2Ball(radius=0.5)\n",
    "L = 1000\n",
    "mu = 1\n",
    "\n",
    "args = init_experiment(func_name, d, L=L, mu=mu)\n",
    "\n",
    "x_0 = np.random.random(size=d)\n",
    "x_0 = x_0 / np.linalg.norm(x_0) * 0.5"
   ]
  },
  {
   "cell_type": "code",
   "execution_count": 765,
   "id": "ff0021d3",
   "metadata": {},
   "outputs": [],
   "source": [
    "def learning_rate(k):\n",
    "    return 1 / L"
   ]
  },
  {
   "cell_type": "code",
   "execution_count": 766,
   "id": "b32a89f9",
   "metadata": {},
   "outputs": [
    {
     "name": "stderr",
     "output_type": "stream",
     "text": [
      "100%|█████████████████████████████████████| 1000/1000 [00:00<00:00, 8335.30it/s]\n"
     ]
    }
   ],
   "source": [
    "TrueGradient = TrueGradientApproximator(func_name, args=args) \n",
    "GD = GDOptimizer(TrueGradient, learning_rate, x_0, sett, max_oracle_calls=10**3)\n",
    "GD.optimize()"
   ]
  },
  {
   "cell_type": "code",
   "execution_count": 767,
   "id": "98504986",
   "metadata": {},
   "outputs": [
    {
     "data": {
      "image/png": "[encoded data removed]",
      "text/plain": [
       "<Figure size 325x200.861 with 1 Axes>"
      ]
     },
     "metadata": {},
     "output_type": "display_data"
    },
    {
     "name": "stdout",
     "output_type": "stream",
     "text": [
      "0.5\n"
     ]
    }
   ],
   "source": [
    "make_err_plot([GD], title=\"GD\", labels=[\"GD\"])\n",
    "x_sol = GD.x_curr\n",
    "print(np.linalg.norm(x_sol))"
   ]
  },
  {
   "cell_type": "code",
   "execution_count": 773,
   "id": "1673d5bf",
   "metadata": {},
   "outputs": [],
   "source": [
    "def learning_rate_jaguar_opf(k):\n",
    "    return 1 / (k + 3)\n",
    "\n",
    "def learning_rate_jaguar_tpf(k):\n",
    "    return 1 / (k + 3)"
   ]
  },
  {
   "cell_type": "code",
   "execution_count": 774,
   "id": "71424d5e",
   "metadata": {},
   "outputs": [],
   "source": [
    "def momentum_k_opf(k):\n",
    "    return 0.95 * k / (k + 10)\n",
    "\n",
    "def momentum_k_tpf(k):\n",
    "    return 0.95 * k / (k + 10)"
   ]
  },
  {
   "cell_type": "code",
   "execution_count": 775,
   "id": "707558b8",
   "metadata": {},
   "outputs": [],
   "source": [
    "oracle_opf = ZO_oracle(func_name, sigma, oracle_mode=\"opf\", args=args)\n",
    "oracle_tpf = ZO_oracle(func_name, sigma, oracle_mode=\"tpf\", args=args)"
   ]
  },
  {
   "cell_type": "code",
   "execution_count": 778,
   "id": "2d505597",
   "metadata": {},
   "outputs": [
    {
     "name": "stderr",
     "output_type": "stream",
     "text": [
      "100%|███████████████████████████████████| 49945/49945 [00:37<00:00, 1330.12it/s]\n",
      "100%|███████████████████████████████████| 49945/49945 [00:24<00:00, 2070.45it/s]\n"
     ]
    }
   ],
   "source": [
    "Jaguar_opf = JaguarApproximator(oracle_opf, momentum_k=momentum_k_opf, gamma=1e-5)\n",
    "Jaguar_tpf = JaguarApproximator(oracle_tpf, momentum_k=momentum_k_tpf, gamma=1e-5)\n",
    "\n",
    "approx_list = [Jaguar_opf, Jaguar_tpf]\n",
    "lr_list = [learning_rate_jaguar_opf, learning_rate_jaguar_tpf]\n",
    "\n",
    "optimizers_list = []\n",
    "for approximator, lr in zip(approx_list, lr_list):\n",
    "    opt = FWOptimizer(approximator, lr, x_0, sett, x_sol=x_sol, max_oracle_calls=10**5)\n",
    "    opt.optimize()\n",
    "    optimizers_list.append(opt)"
   ]
  },
  {
   "cell_type": "code",
   "execution_count": 779,
   "id": "bf10a89e",
   "metadata": {},
   "outputs": [
    {
     "data": {
      "image/png": "[encoded data removed]",
      "text/plain": [
       "<Figure size 325x200.861 with 1 Axes>"
      ]
     },
     "metadata": {},
     "output_type": "display_data"
    }
   ],
   "source": [
    "make_err_plot(optimizers_list, save_name=\"Stochastics_OPF_TPF_FW_Reg_L2\", labels=[\"opf\", \"tpf\"])"
   ]
  }
 ],
 "metadata": {
  "kernelspec": {
   "display_name": "Python 3 (ipykernel)",
   "language": "python",
   "name": "python3"
  },
  "language_info": {
   "codemirror_mode": {
    "name": "ipython",
    "version": 3
   },
   "file_extension": ".py",
   "mimetype": "text/x-python",
   "name": "python",
   "nbconvert_exporter": "python",
   "pygments_lexer": "ipython3",
   "version": "3.11.5"
  }
 },
 "nbformat": 4,
 "nbformat_minor": 5
}
